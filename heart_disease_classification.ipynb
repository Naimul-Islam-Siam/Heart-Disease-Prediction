{
  "nbformat": 4,
  "nbformat_minor": 0,
  "metadata": {
    "colab": {
      "name": "heart-disease-classification.ipynb",
      "provenance": [],
      "collapsed_sections": []
    },
    "kernelspec": {
      "name": "python3",
      "display_name": "Python 3"
    },
    "language_info": {
      "name": "python"
    }
  },
  "cells": [
    {
      "cell_type": "markdown",
      "metadata": {
        "id": "ZMnQx6BfOqfM"
      },
      "source": [
        "## Heart Disease Prediction (Binary Classification)"
      ]
    },
    {
      "cell_type": "markdown",
      "metadata": {
        "id": "xCcQkqpnONfu"
      },
      "source": [
        "An attempt to build a machine learning model capable of predicting (based on their medical attributes) whether someone has heart disease or not.\n",
        "\n",
        "**The approach:**\n",
        "1. Problem Definition\n",
        "2. Data Analysis:\n",
        "  - Data\n",
        "  - Evaluation\n",
        "  - Features\n",
        "3. Modeling\n",
        "4. Experiment"
      ]
    },
    {
      "cell_type": "markdown",
      "metadata": {
        "id": "qg9r7bDweSyP"
      },
      "source": [
        "---"
      ]
    },
    {
      "cell_type": "markdown",
      "metadata": {
        "id": "T3HRX7iyeTjR"
      },
      "source": [
        "## 1. Problem Definition\n",
        "\n",
        "In a statement,\n",
        "> Given medical attributes (clinical parameters) of a patient, can we predict whether that patient has heart disease or not?"
      ]
    },
    {
      "cell_type": "markdown",
      "metadata": {
        "id": "DUke2yFEhh0C"
      },
      "source": [
        "---"
      ]
    },
    {
      "cell_type": "markdown",
      "metadata": {
        "id": "TYvONDfCfAdz"
      },
      "source": [
        "## 2. Data Analysis"
      ]
    },
    {
      "cell_type": "markdown",
      "metadata": {
        "id": "mLg5dTWYfDMF"
      },
      "source": [
        "#### 2.1 Data\n",
        "\n",
        "**Original Data is from:** https://archive.ics.uci.edu/ml/datasets/heart+disease\n",
        "\n",
        "**We used the dataset of:** https://www.kaggle.com/ronitf/heart-disease-uci\n",
        "\n",
        "**Attribute Information:**\n",
        "\n",
        "1. age\n",
        "2. sex\n",
        "3. chest pain type (4 values)\n",
        "4. resting blood pressure\n",
        "5. serum cholestoral in mg/dl\n",
        "6. fasting blood sugar > 120 mg/dl\n",
        "7. resting electrocardiographic results (values 0,1,2)\n",
        "8. maximum heart rate achieved\n",
        "9. exercise induced angina\n",
        "10. oldpeak = ST depression induced by exercise relative to rest\n",
        "11. the slope of the peak exercise ST segment\n",
        "12. number of major vessels (0-3) colored by flourosopy\n",
        "13. thal: 3 = normal; 6 = fixed defect; 7 = reversable defect"
      ]
    },
    {
      "cell_type": "markdown",
      "metadata": {
        "id": "oRMLinI0f8-T"
      },
      "source": [
        "#### 2.3 Features\n",
        "\n",
        "1. **age** - age in years\n",
        "2. **sex** - (1 = male; 0 = female)\n",
        "3. **cp** - chest pain type\n",
        "  - 0: Typical angina: chest pain related decrease blood supply to the heart\n",
        "  - 1: Atypical angina: chest pain not related to heart\n",
        "  - 2: Non-anginal pain: typically esophageal spasms (non heart related)\n",
        "  - 3: Asymptomatic: chest pain not showing signs of disease\n",
        "4. **trestbps** - resting blood pressure (in mm Hg on admission to the hospital) anything above 130-140 is typically cause for concern\n",
        "5. **chol** - serum cholestoral in mg/dl\n",
        "  - serum = LDL + HDL + .2 * triglycerides\n",
        "  - above 200 is cause for concern\n",
        "6. **fbs** - (fasting blood sugar > 120 mg/dl) (1 = true; 0 = false)\n",
        "  - '>126' mg/dL signals diabetes\n",
        "7. **restecg** - resting electrocardiographic results\n",
        "  - 0: Nothing to note\n",
        "  - 1: ST-T Wave abnormality\n",
        "    * can range from mild symptoms to severe problems\n",
        "    * signals non-normal heart beat\n",
        "  - 2: Possible or definite left ventricular hypertrophy\n",
        "    * Enlarged heart's main pumping chamber\n",
        "8. **thalach** - maximum heart rate achieved\n",
        "9. **exang** - exercise induced angina (1 = yes; 0 = no)\n",
        "10. **oldpeak** - ST depression induced by exercise relative to rest looks at stress of heart during excerci\n",
        "11. **slope** - the slope of the peak exercise ST segment\n",
        "  - 0: Upsloping: better heart rate with excercise (uncommon)\n",
        "  - 1: Flatsloping: minimal change (typical healthy heart)\n",
        "  - 2: Downslopins: signs of unhealthy heart\n",
        "12. **ca** - number of major vessels (0-3) colored by flourosopy\n",
        "  - colored vessel means the doctor can see the blood passing through\n",
        "  - the more blood movement the better (no clots)\n",
        "13. **thal** - thalium stress result\n",
        "  - 1,3: normal\n",
        "  - 6: fixed defect: used to be defect but ok now\n",
        "  - 7: reversable defect: no proper blood movement when excercising\n",
        "14. **target** - have disease or not (1=yes, 0=no) (= the predicted attribute)"
      ]
    }
  ]
}